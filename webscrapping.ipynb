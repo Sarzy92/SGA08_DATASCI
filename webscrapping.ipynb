{
 "cells": [
  {
   "cell_type": "code",
   "execution_count": 34,
   "metadata": {},
   "outputs": [],
   "source": [
    "# importing required libraries\n",
    "import requests\n",
    "from bs4 import BeautifulSoup\n",
    "import pandas as pd"
   ]
  },
  {
   "cell_type": "code",
   "execution_count": 35,
   "metadata": {},
   "outputs": [],
   "source": [
    "base_url =\"https://www.propertypro.ng/property-for-short-let\"\n"
   ]
  },
  {
   "cell_type": "code",
   "execution_count": 36,
   "metadata": {},
   "outputs": [],
   "source": [
    "# headers\n",
    "headers = {'User-Agent': \"Mozilla/5.0 (Windows NT 10.0; Win64; x64) AppleWebKit/537.36 (KHTML, like Gecko) Chrome/83.0.4103.116 Safari/537.36\"}\n"
   ]
  },
  {
   "cell_type": "code",
   "execution_count": 37,
   "metadata": {},
   "outputs": [
    {
     "data": {
      "text/plain": [
       "200"
      ]
     },
     "execution_count": 37,
     "metadata": {},
     "output_type": "execute_result"
    }
   ],
   "source": [
    "response = requests.get(base_url, headers=headers)\n",
    "response.status_code\n",
    "#requests.text"
   ]
  },
  {
   "cell_type": "code",
   "execution_count": 38,
   "metadata": {},
   "outputs": [
    {
     "name": "stdout",
     "output_type": "stream",
     "text": [
      " Short let property  (1,674 listings) | PropertyPro.ng\n"
     ]
    }
   ],
   "source": [
    "soup = BeautifulSoup(response.text, 'html.parser')\n",
    "print(soup.title.get_text())"
   ]
  },
  {
   "cell_type": "code",
   "execution_count": 39,
   "metadata": {},
   "outputs": [],
   "source": [
    "titles =soup.select('.pro-main-cont > a > h2')"
   ]
  },
  {
   "cell_type": "code",
   "execution_count": 40,
   "metadata": {},
   "outputs": [
    {
     "data": {
      "text/plain": [
       "'3 BEDROOM FLAT / APARTMENT FOR SHORTLET EKO PEARL TOWER EKO ATLANTIC VICTORIA ISLAND LAGOS'"
      ]
     },
     "execution_count": 40,
     "metadata": {},
     "output_type": "execute_result"
    }
   ],
   "source": [
    "titles_list=[]\n",
    "for title in titles:\n",
    "    titles_list.append(title.get_text())   \n",
    "titles_list[0]"
   ]
  },
  {
   "cell_type": "code",
   "execution_count": 41,
   "metadata": {},
   "outputs": [
    {
     "data": {
      "text/plain": [
       "40"
      ]
     },
     "execution_count": 41,
     "metadata": {},
     "output_type": "execute_result"
    }
   ],
   "source": [
    "prices = soup.select('.pro-main-cont > p > span')\n",
    "len(prices)"
   ]
  },
  {
   "cell_type": "code",
   "execution_count": 42,
   "metadata": {},
   "outputs": [
    {
     "data": {
      "text/plain": [
       "'135000.0'"
      ]
     },
     "execution_count": 42,
     "metadata": {},
     "output_type": "execute_result"
    }
   ],
   "source": [
    "prices_list = []\n",
    "for i, price in enumerate(prices):\n",
    "    if i % 2 == 1: \n",
    "        prices_list.append(price.get(\"content\"))\n",
    "prices_list[0]"
   ]
  },
  {
   "cell_type": "code",
   "execution_count": 43,
   "metadata": {},
   "outputs": [
    {
     "data": {
      "text/plain": [
       "'  eko pearl tower eko atlantic victoria island lagos'"
      ]
     },
     "execution_count": 43,
     "metadata": {},
     "output_type": "execute_result"
    }
   ],
   "source": [
    "locations = soup.select('.pro-location')\n",
    "locations_list = []\n",
    "for location in locations:\n",
    "    locations_list.append(location.get_text())\n",
    "locations_list[0]"
   ]
  },
  {
   "cell_type": "code",
   "execution_count": 44,
   "metadata": {},
   "outputs": [],
   "source": [
    "property= pd.DataFrame ({\"title\": titles_list,\n",
    "                          \"price\": prices_list,\n",
    "                         \"location\": locations_list})"
   ]
  },
  {
   "cell_type": "code",
   "execution_count": 45,
   "metadata": {},
   "outputs": [],
   "source": [
    "property.to_csv(\"property.csv\")"
   ]
  },
  {
   "cell_type": "code",
   "execution_count": 82,
   "metadata": {},
   "outputs": [],
   "source": [
    "def scrape_page(url):\n",
    "     response = requests.get(base_url, headers=headers)\n",
    "soup = BeautifulSoup(response.text, 'html.parser')"
   ]
  },
  {
   "cell_type": "code",
   "execution_count": 83,
   "metadata": {},
   "outputs": [],
   "source": [
    "titles = soup.select('.pro-main-cont > a > h2')\n",
    "titles_list = []\n",
    "for titles in titles:\n",
    "        titles_list.append(title.get_text())"
   ]
  },
  {
   "cell_type": "code",
   "execution_count": 84,
   "metadata": {},
   "outputs": [],
   "source": [
    "prices = soup.select('.pro-main-cont > p > span')\n",
    "prices_list = []\n",
    "for i, price in enumerate(prices):\n",
    "    if i % 2 == 1: \n",
    "        prices_list.append(price.get(\"content\"))\n"
   ]
  },
  {
   "cell_type": "code",
   "execution_count": 85,
   "metadata": {},
   "outputs": [],
   "source": [
    "locations = soup.select('.pro-location')\n",
    "locations_list = []\n",
    "for location in locations:\n",
    "    locations_list.append(location.get_text())"
   ]
  },
  {
   "cell_type": "code",
   "execution_count": 86,
   "metadata": {},
   "outputs": [
    {
     "data": {
      "text/plain": [
       "(['3 BEDROOM FLAT / APARTMENT FOR SHORTLET . VICTORIA ISLAND LAGOS',\n",
       "  '3 BEDROOM FLAT / APARTMENT FOR SHORTLET . VICTORIA ISLAND LAGOS',\n",
       "  '3 BEDROOM FLAT / APARTMENT FOR SHORTLET . VICTORIA ISLAND LAGOS',\n",
       "  '3 BEDROOM FLAT / APARTMENT FOR SHORTLET . VICTORIA ISLAND LAGOS',\n",
       "  '3 BEDROOM FLAT / APARTMENT FOR SHORTLET . VICTORIA ISLAND LAGOS',\n",
       "  '3 BEDROOM FLAT / APARTMENT FOR SHORTLET . VICTORIA ISLAND LAGOS',\n",
       "  '3 BEDROOM FLAT / APARTMENT FOR SHORTLET . VICTORIA ISLAND LAGOS',\n",
       "  '3 BEDROOM FLAT / APARTMENT FOR SHORTLET . VICTORIA ISLAND LAGOS',\n",
       "  '3 BEDROOM FLAT / APARTMENT FOR SHORTLET . VICTORIA ISLAND LAGOS',\n",
       "  '3 BEDROOM FLAT / APARTMENT FOR SHORTLET . VICTORIA ISLAND LAGOS',\n",
       "  '3 BEDROOM FLAT / APARTMENT FOR SHORTLET . VICTORIA ISLAND LAGOS',\n",
       "  '3 BEDROOM FLAT / APARTMENT FOR SHORTLET . VICTORIA ISLAND LAGOS',\n",
       "  '3 BEDROOM FLAT / APARTMENT FOR SHORTLET . VICTORIA ISLAND LAGOS',\n",
       "  '3 BEDROOM FLAT / APARTMENT FOR SHORTLET . VICTORIA ISLAND LAGOS',\n",
       "  '3 BEDROOM FLAT / APARTMENT FOR SHORTLET . VICTORIA ISLAND LAGOS',\n",
       "  '3 BEDROOM FLAT / APARTMENT FOR SHORTLET . VICTORIA ISLAND LAGOS',\n",
       "  '3 BEDROOM FLAT / APARTMENT FOR SHORTLET . VICTORIA ISLAND LAGOS',\n",
       "  '3 BEDROOM FLAT / APARTMENT FOR SHORTLET . VICTORIA ISLAND LAGOS',\n",
       "  '3 BEDROOM FLAT / APARTMENT FOR SHORTLET . VICTORIA ISLAND LAGOS',\n",
       "  '3 BEDROOM FLAT / APARTMENT FOR SHORTLET . VICTORIA ISLAND LAGOS'],\n",
       " ['135000.0',\n",
       "  '150000.0',\n",
       "  '60000.0',\n",
       "  '60000.0',\n",
       "  '50000.0',\n",
       "  '120000.0',\n",
       "  '35000.0',\n",
       "  '90000.0',\n",
       "  '60000.0',\n",
       "  '45000.0',\n",
       "  '35000.0',\n",
       "  '70000.0',\n",
       "  '80000.0',\n",
       "  '90000.0',\n",
       "  '45000.0',\n",
       "  '40000.0',\n",
       "  '70000.0',\n",
       "  '100000.0',\n",
       "  '80000.0',\n",
       "  '90000.0'],\n",
       " ['  eko pearl tower eko atlantic victoria island lagos',\n",
       "  ' . victoria island lagos',\n",
       "  ' victoria island extension victoria island lagos',\n",
       "  '  . ikoyi lagos',\n",
       "  '  . ikoyi lagos',\n",
       "  ' . victoria island lagos',\n",
       "  '  primewater view estate ikate lekki lagos',\n",
       "  '  bourdillon drive bourdillon ikoyi lagos',\n",
       "  '  oniru victoria island lagos',\n",
       "  '  oniru victoria island lagos',\n",
       "  '  lekki phase 1 lekki lagos',\n",
       "  '  oniru victoria island lagos',\n",
       "  '  osborne foreshore estate ikoyi lagos',\n",
       "  '  ikoyi lagos',\n",
       "  '  lekki phase 1 lekki lagos',\n",
       "  '  lekki phase 1 lekki lagos',\n",
       "  ' . old ikoyi ikoyi lagos',\n",
       "  ' old ikoyi ikoyi lagos',\n",
       "  ' . old ikoyi ikoyi lagos',\n",
       "  '  . victoria island lagos'])"
      ]
     },
     "execution_count": 86,
     "metadata": {},
     "output_type": "execute_result"
    }
   ],
   "source": [
    " titles_list, prices_list, locations_list"
   ]
  },
  {
   "cell_type": "code",
   "execution_count": 97,
   "metadata": {},
   "outputs": [],
   "source": [
    "base_url =\"https://www.propertypro.ng/property-for-short-let\"\n",
    "urls = [base_url]\n",
    "for i in range(1,42):\n",
    "    url = base_url + \"?pages=\" + str(i)\n",
    "    urls.append(url)"
   ]
  },
  {
   "cell_type": "code",
   "execution_count": 98,
   "metadata": {},
   "outputs": [
    {
     "data": {
      "text/plain": [
       "'https://www.propertypro.ng/property-for-short-let?pages=41'"
      ]
     },
     "execution_count": 98,
     "metadata": {},
     "output_type": "execute_result"
    }
   ],
   "source": [
    "urls[41]"
   ]
  },
  {
   "cell_type": "code",
   "execution_count": 99,
   "metadata": {},
   "outputs": [
    {
     "ename": "TypeError",
     "evalue": "cannot unpack non-iterable NoneType object",
     "output_type": "error",
     "traceback": [
      "\u001b[1;31m---------------------------------------------------------------------------\u001b[0m",
      "\u001b[1;31mTypeError\u001b[0m                                 Traceback (most recent call last)",
      "\u001b[1;32m<ipython-input-99-9e79d5b34715>\u001b[0m in \u001b[0;36m<module>\u001b[1;34m\u001b[0m\n\u001b[0;32m      1\u001b[0m \u001b[0mmaster_titles\u001b[0m\u001b[1;33m,\u001b[0m \u001b[0mmaster_prices\u001b[0m\u001b[1;33m,\u001b[0m \u001b[0mmaster_locations\u001b[0m \u001b[1;33m=\u001b[0m \u001b[1;33m[\u001b[0m\u001b[1;33m]\u001b[0m\u001b[1;33m,\u001b[0m \u001b[1;33m[\u001b[0m\u001b[1;33m]\u001b[0m\u001b[1;33m,\u001b[0m \u001b[1;33m[\u001b[0m\u001b[1;33m]\u001b[0m\u001b[1;33m\u001b[0m\u001b[1;33m\u001b[0m\u001b[0m\n\u001b[0;32m      2\u001b[0m \u001b[1;32mfor\u001b[0m \u001b[0murl\u001b[0m \u001b[1;32min\u001b[0m \u001b[0murls\u001b[0m\u001b[1;33m:\u001b[0m\u001b[1;33m\u001b[0m\u001b[1;33m\u001b[0m\u001b[0m\n\u001b[1;32m----> 3\u001b[1;33m     \u001b[0mtitles_list\u001b[0m\u001b[1;33m,\u001b[0m \u001b[0mprices_list\u001b[0m\u001b[1;33m,\u001b[0m \u001b[0mlocations_list\u001b[0m \u001b[1;33m=\u001b[0m \u001b[0mscrape_page\u001b[0m\u001b[1;33m(\u001b[0m\u001b[0murl\u001b[0m\u001b[1;33m)\u001b[0m\u001b[1;33m\u001b[0m\u001b[1;33m\u001b[0m\u001b[0m\n\u001b[0m\u001b[0;32m      4\u001b[0m     \u001b[0mmaster_titles\u001b[0m \u001b[1;33m+=\u001b[0m \u001b[0mtitles_list\u001b[0m\u001b[1;33m\u001b[0m\u001b[1;33m\u001b[0m\u001b[0m\n\u001b[0;32m      5\u001b[0m     \u001b[0mmaster_prices\u001b[0m \u001b[1;33m+=\u001b[0m \u001b[0mprices_list\u001b[0m\u001b[1;33m\u001b[0m\u001b[1;33m\u001b[0m\u001b[0m\n",
      "\u001b[1;31mTypeError\u001b[0m: cannot unpack non-iterable NoneType object"
     ]
    }
   ],
   "source": [
    "master_titles, master_prices, master_locations = [], [], []\n",
    "for url in urls:\n",
    "    titles_list, prices_list, locations_list = scrape_page(url)\n",
    "    master_titles += titles_list\n",
    "    master_prices += prices_list\n",
    "    master_locations += locations_list"
   ]
  },
  {
   "cell_type": "code",
   "execution_count": null,
   "metadata": {},
   "outputs": [],
   "source": []
  }
 ],
 "metadata": {
  "kernelspec": {
   "display_name": "Python 3",
   "language": "python",
   "name": "python3"
  },
  "language_info": {
   "codemirror_mode": {
    "name": "ipython",
    "version": 3
   },
   "file_extension": ".py",
   "mimetype": "text/x-python",
   "name": "python",
   "nbconvert_exporter": "python",
   "pygments_lexer": "ipython3",
   "version": "3.7.6"
  }
 },
 "nbformat": 4,
 "nbformat_minor": 4
}
